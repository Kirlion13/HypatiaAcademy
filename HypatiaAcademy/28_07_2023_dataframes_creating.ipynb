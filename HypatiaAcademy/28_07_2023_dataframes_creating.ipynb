{
  "nbformat": 4,
  "nbformat_minor": 0,
  "metadata": {
    "colab": {
      "provenance": [],
      "authorship_tag": "ABX9TyMrdfQ/j3m0gmQN4maUUMIb",
      "include_colab_link": true
    },
    "kernelspec": {
      "name": "python3",
      "display_name": "Python 3"
    },
    "language_info": {
      "name": "python"
    }
  },
  "cells": [
    {
      "cell_type": "markdown",
      "metadata": {
        "id": "view-in-github",
        "colab_type": "text"
      },
      "source": [
        "<a href=\"https://colab.research.google.com/github/Kirlion13/HypatiaAcademy/blob/main/HypatiaAcademy/28_07_2023_dataframes_creating.ipynb\" target=\"_parent\"><img src=\"https://colab.research.google.com/assets/colab-badge.svg\" alt=\"Open In Colab\"/></a>"
      ]
    },
    {
      "cell_type": "code",
      "execution_count": null,
      "metadata": {
        "id": "4FQBRVKTbrxg"
      },
      "outputs": [],
      "source": [
        "\timport pandas as pd\n",
        "\n",
        "main_data = {\n",
        "    \"temp\": 22.99,\n",
        "    \"temp_min\": 20.6,\n",
        "    \"temp_max\": 24.23,\n",
        "    \"feels_like\": 23.51,\n",
        "    \"pressure\": 1009,\n",
        "    \"humidity\": 83,\n",
        "    \"dew_point\": 19.95\n",
        "}\n",
        "\n",
        "heat = pd.DataFrame(main_data, index=[0])\n",
        "\n",
        "print(\"Initial 'heat' DataFrame:\")\n",
        "print(heat)\n",
        "\n",
        "humidity_value = main_data['humidity']\n",
        "heat['humidity'] = humidity_value\n",
        "\n",
        "print(\"\\nUpdated 'heat' DataFrame with the 'humidity' column:\")\n",
        "print(heat)\n",
        "\n",
        "\n",
        "\n",
        "\n",
        "\n",
        "\n"
      ]
    }
  ]
}