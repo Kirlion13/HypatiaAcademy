{
  "nbformat": 4,
  "nbformat_minor": 0,
  "metadata": {
    "colab": {
      "provenance": [],
      "authorship_tag": "ABX9TyP1pO+WRSqnK03jyfBfinCM",
      "include_colab_link": true
    },
    "kernelspec": {
      "name": "python3",
      "display_name": "Python 3"
    },
    "language_info": {
      "name": "python"
    }
  },
  "cells": [
    {
      "cell_type": "markdown",
      "metadata": {
        "id": "view-in-github",
        "colab_type": "text"
      },
      "source": [
        "<a href=\"https://colab.research.google.com/github/Kirlion13/HypatiaAcademy/blob/main/HypatiaAcademy/calculator.ipynb\" target=\"_parent\"><img src=\"https://colab.research.google.com/assets/colab-badge.svg\" alt=\"Open In Colab\"/></a>"
      ]
    },
    {
      "cell_type": "code",
      "execution_count": null,
      "metadata": {
        "colab": {
          "base_uri": "https://localhost:8080/"
        },
        "id": "DiPsqTCCRJ-P",
        "outputId": "0f6b9535-f121-463e-992f-7a5d25068bf1"
      },
      "outputs": [
        {
          "output_type": "stream",
          "name": "stdout",
          "text": [
            "calculate: 2+2\n",
            "result: 4\n",
            "calculate: 34529857439/12313\n",
            "result: 2804341.544627629\n",
            "calculate: 218235897246724616721671681780/12*90\n",
            "result: 1.6367692293504345e+30\n",
            "calculate: 92564-45\n",
            "result: 92519\n"
          ]
        }
      ],
      "source": [
        "while True:\n",
        "    print(\"result: \"+str(eval(input(\"calculate: \"))))"
      ]
    },
    {
      "cell_type": "code",
      "source": [
        "while True:\n",
        "  print(\"result: \")\n",
        "    +str(eval(input(\"calculate: \")))"
      ],
      "metadata": {
        "id": "lBJ3h2vlSN6t"
      },
      "execution_count": null,
      "outputs": []
    }
  ]
}