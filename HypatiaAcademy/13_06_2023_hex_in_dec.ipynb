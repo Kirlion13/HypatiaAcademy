{
  "nbformat": 4,
  "nbformat_minor": 0,
  "metadata": {
    "colab": {
      "provenance": [],
      "authorship_tag": "ABX9TyMwv5LYJzAthrnB3cjBw/qa",
      "include_colab_link": true
    },
    "kernelspec": {
      "name": "python3",
      "display_name": "Python 3"
    },
    "language_info": {
      "name": "python"
    }
  },
  "cells": [
    {
      "cell_type": "markdown",
      "metadata": {
        "id": "view-in-github",
        "colab_type": "text"
      },
      "source": [
        "<a href=\"https://colab.research.google.com/github/Kirlion13/HypatiaAcademy/blob/main/HypatiaAcademy/13_06_2023_hex_in_dec.ipynb\" target=\"_parent\"><img src=\"https://colab.research.google.com/assets/colab-badge.svg\" alt=\"Open In Colab\"/></a>"
      ]
    },
    {
      "cell_type": "code",
      "source": [
        "hexnum_n1 = \"FF\"\n",
        "decimal_1 = int(hexnum_n1, 16)\n",
        "\n",
        "hexnum_n2 = \"F0\"\n",
        "decimal_2 = int(hexnum_n2, 16)\n",
        "\n",
        "hexnum_n3 = \"FFF\"\n",
        "decimal_3 = int(hexnum_n3, 16)\n",
        "\n",
        "print(\"FF in decimal is: \",decimal_1)\n",
        "print(\"FO in decimal is: \",decimal_2)\n",
        "print(\"FFF in decimal is: \",decimal_3)"
      ],
      "metadata": {
        "colab": {
          "base_uri": "https://localhost:8080/"
        },
        "id": "yY0x_Z_0Yta6",
        "outputId": "dde21ea0-1319-44a3-a5b0-4d493f4b2e03"
      },
      "execution_count": 7,
      "outputs": [
        {
          "output_type": "stream",
          "name": "stdout",
          "text": [
            "FF in decimal is:  255\n",
            "FO in decimal is:  240\n",
            "FFF in decimal is:  4095\n"
          ]
        }
      ]
    }
  ]
}