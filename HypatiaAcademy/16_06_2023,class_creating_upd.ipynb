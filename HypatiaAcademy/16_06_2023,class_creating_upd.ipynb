{
  "nbformat": 4,
  "nbformat_minor": 0,
  "metadata": {
    "colab": {
      "provenance": [],
      "authorship_tag": "ABX9TyM5t9nGqt5qFWPUK9imOZC+",
      "include_colab_link": true
    },
    "kernelspec": {
      "name": "python3",
      "display_name": "Python 3"
    },
    "language_info": {
      "name": "python"
    }
  },
  "cells": [
    {
      "cell_type": "markdown",
      "metadata": {
        "id": "view-in-github",
        "colab_type": "text"
      },
      "source": [
        "<a href=\"https://colab.research.google.com/github/Kirlion13/HypatiaAcademy/blob/main/HypatiaAcademy/16_06_2023%2Cclass_creating_upd.ipynb\" target=\"_parent\"><img src=\"https://colab.research.google.com/assets/colab-badge.svg\" alt=\"Open In Colab\"/></a>"
      ]
    },
    {
      "cell_type": "code",
      "source": [
        "import datetime"
      ],
      "metadata": {
        "id": "owa59penIK-U"
      },
      "execution_count": 61,
      "outputs": []
    },
    {
      "cell_type": "code",
      "execution_count": 62,
      "metadata": {
        "colab": {
          "base_uri": "https://localhost:8080/"
        },
        "id": "su0gZBpbFyqh",
        "outputId": "71ea64fc-8821-4d44-b37c-2cd606d04ede"
      },
      "outputs": [
        {
          "output_type": "stream",
          "name": "stdout",
          "text": [
            "Your bank account number is:  104738945\n",
            "Balance on your account is:  45000.34\n",
            "Hello, Jenny welcome to your Bank account page\n"
          ]
        }
      ],
      "source": [
        "class BankAccount:\n",
        "  transactions = []\n",
        "\n",
        "  def __init__ (self, account_number, balance, owners_name):\n",
        "    self.account_number = account_number\n",
        "    self.balance = balance\n",
        "    self.owner_name = owners_name\n",
        "\n",
        "  def addTrans(self, date, amount):\n",
        "    transaction = Transaction(date, amount)\n",
        "    self.transactions.append(transaction)\n",
        "\n",
        "Jenny_s_account = BankAccount(104738945, 45000.34, \"Jenny\")\n",
        "\n",
        "print(\"Your bank account number is: \", Jenny_s_account.account_number)\n",
        "print(\"Balance on your account is: \", Jenny_s_account.balance)\n",
        "print(\"Hello,\", Jenny_s_account.owner_name, \"welcome to your Bank account page\")"
      ]
    },
    {
      "cell_type": "code",
      "source": [
        "class Transaction:\n",
        "    def __init__(self, date, amount):\n",
        "        self.date = date\n",
        "        self.amount = amount\n",
        "\n",
        "class Account:\n",
        "    def __init__(self):\n",
        "        self.transactions = []\n",
        "\n",
        "    def addTrans(self, date, amount):\n",
        "        transaction = Transaction(date, amount)\n",
        "        self.transactions.append(transaction)\n",
        "        Jenny_s_account = Account()\n",
        "Jenny_s_account.addTrans(datetime.datetime.now(), 100)\n",
        "print(\"transaction date:\", Jenny_s_account.transactions[0].date)\n",
        "print(\"transaction amount:\", Jenny_s_account.transactions[0].amount)"
      ],
      "metadata": {
        "colab": {
          "base_uri": "https://localhost:8080/"
        },
        "id": "bdobCvafGO3e",
        "outputId": "f01f8af4-4bfb-408f-ffa6-65ea7115c65f"
      },
      "execution_count": 63,
      "outputs": [
        {
          "output_type": "stream",
          "name": "stdout",
          "text": [
            "transaction date: 2023-06-16 13:27:51.186102\n",
            "transaction amount: 100\n"
          ]
        }
      ]
    }
  ]
}