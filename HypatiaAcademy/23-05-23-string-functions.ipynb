{
  "nbformat": 4,
  "nbformat_minor": 0,
  "metadata": {
    "colab": {
      "provenance": [],
      "authorship_tag": "ABX9TyMwD4oAuo8iYIFxuoZQG2Zq",
      "include_colab_link": true
    },
    "kernelspec": {
      "name": "python3",
      "display_name": "Python 3"
    },
    "language_info": {
      "name": "python"
    }
  },
  "cells": [
    {
      "cell_type": "markdown",
      "metadata": {
        "id": "view-in-github",
        "colab_type": "text"
      },
      "source": [
        "<a href=\"https://colab.research.google.com/github/Kirlion13/HypatiaAcademy/blob/main/HypatiaAcademy/23-05-23-string-functions.ipynb\" target=\"_parent\"><img src=\"https://colab.research.google.com/assets/colab-badge.svg\" alt=\"Open In Colab\"/></a>"
      ]
    },
    {
      "cell_type": "code",
      "execution_count": null,
      "metadata": {
        "colab": {
          "base_uri": "https://localhost:8080/"
        },
        "id": "qJ56ybne_HAe",
        "outputId": "d5e4612f-f8c1-4677-fb51-a17accc74cf5"
      },
      "outputs": [
        {
          "output_type": "stream",
          "name": "stdout",
          "text": [
            "the number 13 is where doctor is found in the string where is the doctor I saw.\n"
          ]
        }
      ],
      "source": [
        "#using find\n",
        "txt = 'where is the doctor I saw.'\n",
        "\n",
        "word = \"doctor\"\n",
        "x = txt.find(word)\n",
        "print(\"the number %i is where %s is found in the string %s\" % (x, word, txt))"
      ]
    },
    {
      "cell_type": "code",
      "source": [
        "#another method using find \n",
        "txt = 'where is the doctor I saw.'\n",
        "\n",
        "word = \"doctor\"\n",
        "x = txt.find(word)\n",
        "if x == 13:\n",
        "    print(word)\n",
        "else:\n",
        "    print(\"where is the doctor I saw.\")"
      ],
      "metadata": {
        "colab": {
          "base_uri": "https://localhost:8080/"
        },
        "id": "CaZzuVfKHHvI",
        "outputId": "d3fe2c1f-bbe8-4f06-f91f-65144c2a409f"
      },
      "execution_count": null,
      "outputs": [
        {
          "output_type": "stream",
          "name": "stdout",
          "text": [
            "doctor\n"
          ]
        }
      ]
    },
    {
      "cell_type": "code",
      "source": [
        "#using length\n",
        "print(\"the length of %s is %i\" % (word,len(word)))\n",
        "\n",
        "print(txt[13:13+6])"
      ],
      "metadata": {
        "colab": {
          "base_uri": "https://localhost:8080/"
        },
        "id": "lIeRPOelCXAl",
        "outputId": "aff43a90-8b22-48f6-efb0-dd6c7bca3fc1"
      },
      "execution_count": null,
      "outputs": [
        {
          "output_type": "stream",
          "name": "stdout",
          "text": [
            "the length of doctor is 6\n",
            "doctor\n"
          ]
        }
      ]
    }
  ]
}