{
  "nbformat": 4,
  "nbformat_minor": 0,
  "metadata": {
    "colab": {
      "provenance": [],
      "authorship_tag": "ABX9TyMV0MKwcytCHVfxappS8Et8",
      "include_colab_link": true
    },
    "kernelspec": {
      "name": "python3",
      "display_name": "Python 3"
    },
    "language_info": {
      "name": "python"
    }
  },
  "cells": [
    {
      "cell_type": "markdown",
      "metadata": {
        "id": "view-in-github",
        "colab_type": "text"
      },
      "source": [
        "<a href=\"https://colab.research.google.com/github/Kirlion13/HypatiaAcademy/blob/main/HypatiaAcademy/studentAdder_06_06_2023.ipynb\" target=\"_parent\"><img src=\"https://colab.research.google.com/assets/colab-badge.svg\" alt=\"Open In Colab\"/></a>"
      ]
    },
    {
      "cell_type": "code",
      "execution_count": 26,
      "metadata": {
        "colab": {
          "base_uri": "https://localhost:8080/"
        },
        "id": "eWdu3RbDZmmB",
        "outputId": "d892e8c6-971f-4987-c749-6faf99395e7d"
      },
      "outputs": [
        {
          "output_type": "stream",
          "name": "stdout",
          "text": [
            "['sofia', 'walker', 'ilya', 'artur']\n"
          ]
        }
      ],
      "source": [
        "def studentAdder(*students):\n",
        " \n",
        "  student_l = []\n",
        "\n",
        "  for student in students:\n",
        "    student_l.append(student)\n",
        "\n",
        "  return student_l\n",
        "\n",
        "\n",
        "\n",
        "print(studentAdder(\"sofia\", \"walker\", \"ilya\", \"artur\"))"
      ]
    }
  ]
}