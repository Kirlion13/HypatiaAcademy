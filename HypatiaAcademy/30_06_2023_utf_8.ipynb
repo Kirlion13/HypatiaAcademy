{
  "nbformat": 4,
  "nbformat_minor": 0,
  "metadata": {
    "colab": {
      "provenance": [],
      "authorship_tag": "ABX9TyNuqibYZxgPDOMuLykqpKSG",
      "include_colab_link": true
    },
    "kernelspec": {
      "name": "python3",
      "display_name": "Python 3"
    },
    "language_info": {
      "name": "python"
    }
  },
  "cells": [
    {
      "cell_type": "markdown",
      "metadata": {
        "id": "view-in-github",
        "colab_type": "text"
      },
      "source": [
        "<a href=\"https://colab.research.google.com/github/Kirlion13/HypatiaAcademy/blob/main/HypatiaAcademy/30_06_2023_utf_8.ipynb\" target=\"_parent\"><img src=\"https://colab.research.google.com/assets/colab-badge.svg\" alt=\"Open In Colab\"/></a>"
      ]
    },
    {
      "cell_type": "code",
      "execution_count": 10,
      "metadata": {
        "colab": {
          "base_uri": "https://localhost:8080/"
        },
        "id": "MLOVuts8NgbZ",
        "outputId": "723aa412-9f61-4499-f45e-02c974084385"
      },
      "outputs": [
        {
          "output_type": "stream",
          "name": "stdout",
          "text": [
            "52881\n",
            "b'\\xce\\x91'\n",
            "Α\n"
          ]
        }
      ],
      "source": [
        "#1st letter of the greek alphabet\n",
        "\n",
        "ALPHA=int(\"0xce91\" , 16)\n",
        "print(ALPHA)\n",
        "\n",
        "twoBytes=ALPHA.to_bytes(2,'big')\n",
        "print(twoBytes)\n",
        "\n",
        "decodedTwoBytes=twoBytes.decode('utf-8')\n",
        "print(decodedTwoBytes)"
      ]
    },
    {
      "cell_type": "code",
      "source": [
        "#last letter of the greek alphabet\n",
        "\n",
        "OMEGA=int(\"0xcea9\", 16)\n",
        "print(OMEGA)\n",
        "\n",
        "twoBytes=OMEGA.to_bytes(2,'big')\n",
        "print(twoBytes)\n",
        "\n",
        "decodedTwoBytes=twoBytes.decode('utf-8')\n",
        "print(decodedTwoBytes)"
      ],
      "metadata": {
        "colab": {
          "base_uri": "https://localhost:8080/"
        },
        "id": "hxFYs6t9QNyM",
        "outputId": "5aee25f3-44c5-47fe-ea6f-e2b40676770f"
      },
      "execution_count": 11,
      "outputs": [
        {
          "output_type": "stream",
          "name": "stdout",
          "text": [
            "52905\n",
            "b'\\xce\\xa9'\n",
            "Ω\n"
          ]
        }
      ]
    }
  ]
}