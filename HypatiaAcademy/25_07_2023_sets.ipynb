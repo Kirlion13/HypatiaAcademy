{
  "nbformat": 4,
  "nbformat_minor": 0,
  "metadata": {
    "colab": {
      "provenance": [],
      "authorship_tag": "ABX9TyPhTgAihVueml/trPQ7ePhG",
      "include_colab_link": true
    },
    "kernelspec": {
      "name": "python3",
      "display_name": "Python 3"
    },
    "language_info": {
      "name": "python"
    }
  },
  "cells": [
    {
      "cell_type": "markdown",
      "metadata": {
        "id": "view-in-github",
        "colab_type": "text"
      },
      "source": [
        "<a href=\"https://colab.research.google.com/github/Kirlion13/HypatiaAcademy/blob/main/HypatiaAcademy/25_07_2023_sets.ipynb\" target=\"_parent\"><img src=\"https://colab.research.google.com/assets/colab-badge.svg\" alt=\"Open In Colab\"/></a>"
      ]
    },
    {
      "cell_type": "code",
      "execution_count": 8,
      "metadata": {
        "colab": {
          "base_uri": "https://localhost:8080/"
        },
        "id": "7gIkW8KIPmWE",
        "outputId": "b12952d4-79dd-4737-b54c-2b73d4ba1fa2"
      },
      "outputs": [
        {
          "output_type": "execute_result",
          "data": {
            "text/plain": [
              "set()"
            ]
          },
          "metadata": {},
          "execution_count": 8
        }
      ],
      "source": [
        "#using .intersection\n",
        "students = {\"lika\", \"Tamara\", \"Danyilo\", \"Joaquim\", \"Kirill\"}\n",
        "teacher = {\"mr.Walker\"}\n",
        "\n",
        "students.intersection(teacher)"
      ]
    },
    {
      "cell_type": "code",
      "source": [
        "#2nd method\n",
        "students = {\"lika\", \"Tamara\", \"Danyilo\", \"Joaquim\", \"Kirill\"}\n",
        "teacher = {\"mr.Walker\"}\n",
        "\n",
        "if \"Mr.Walker\" not in students:\n",
        "  print(\"Mr.Walker is not student. He is a teacher\")\n",
        "else:\n",
        "  print(\"Mr.Walker is in the set students\")"
      ],
      "metadata": {
        "colab": {
          "base_uri": "https://localhost:8080/"
        },
        "id": "2n-1N2zTXL9M",
        "outputId": "b7929fe0-763a-4113-a0ed-fd329afe2835"
      },
      "execution_count": 9,
      "outputs": [
        {
          "output_type": "stream",
          "name": "stdout",
          "text": [
            "Mr.Walker is not student. He is a teacher\n"
          ]
        }
      ]
    }
  ]
}