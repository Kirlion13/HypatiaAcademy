{
  "nbformat": 4,
  "nbformat_minor": 0,
  "metadata": {
    "colab": {
      "provenance": [],
      "authorship_tag": "ABX9TyM/MhwJgQfLpqv36tzhEKwU",
      "include_colab_link": true
    },
    "kernelspec": {
      "name": "python3",
      "display_name": "Python 3"
    },
    "language_info": {
      "name": "python"
    }
  },
  "cells": [
    {
      "cell_type": "markdown",
      "metadata": {
        "id": "view-in-github",
        "colab_type": "text"
      },
      "source": [
        "<a href=\"https://colab.research.google.com/github/Kirlion13/HypatiaAcademy/blob/main/HypatiaAcademy/20_06_2023_BankAccount_upd_version_3_0.ipynb\" target=\"_parent\"><img src=\"https://colab.research.google.com/assets/colab-badge.svg\" alt=\"Open In Colab\"/></a>"
      ]
    },
    {
      "cell_type": "code",
      "source": [
        "import urllib.request\n",
        "\n",
        "class BankAccount:\n",
        "    def __init__(self, account_number, balance, owner_name):\n",
        "        self.account_number = account_number\n",
        "        self.balance = balance\n",
        "        self.owner_name = owner_name\n",
        "        self.transactions = []\n",
        "\n",
        "    def addTransaction(self, date, amount):\n",
        "        self.transactions.append((date, amount))\n",
        "\n",
        "    def getBalance(self):\n",
        "        total_balance = self.balance\n",
        "        for _, amount in self.transactions:\n",
        "            total_balance += amount\n",
        "        return total_balance\n",
        "\n",
        "    def addTransactionsFromCSV(self, csv_url):\n",
        "        response = urllib.request.urlopen(csv_url)\n",
        "        lines = [line.decode('utf-8').strip() for line in response.readlines()[1:]]  # Skip header row\n",
        "\n",
        "        for line in lines:\n",
        "            try:\n",
        "                date_str, amount_str = line.split(',')\n",
        "                date = datetime.datetime.strptime(date_str, '%m/%d/%Y').date()\n",
        "                amount = float(amount_str)\n",
        "                self.addTransaction(date, amount)\n",
        "            except (ValueError, IndexError):\n",
        "                print(f\"Ignoring invalid transaction: {line}\")\n",
        "\n",
        "\n",
        "Jenny_s_account = BankAccount(104738945, 45000.34, \"Jenny\")\n",
        "print(\"Your bank account number is:\", Jenny_s_account.account_number)\n",
        "print(\"Balance on your account is:\", Jenny_s_account.balance)\n",
        "print(\"Hello,\", Jenny_s_account.owner_name, \"welcome to your Bank account page\")\n",
        "\n",
        "Jenny_s_account.addTransaction(datetime.date.today(), 400)\n",
        "print(\"Transaction date:\", Jenny_s_account.transactions[0][0])\n",
        "print(\"Transaction amount:\", Jenny_s_account.transactions[0][1])\n",
        "\n",
        "Jenny_s_account_holder = BankAccount(None, None, None)\n",
        "Jenny_s_account_holder.addTransactionsFromCSV('https://raw.githubusercontent.com/werowe/HypatiaAcademy/master/assignment/transactions.csv')\n",
        "\n",
        "Jenny_s_account.transactions.extend(Jenny_s_account_holder.transactions)\n",
        "\n",
        "print(\"Total balance:\", Jenny_s_account.getBalance())"
      ],
      "metadata": {
        "colab": {
          "base_uri": "https://localhost:8080/"
        },
        "id": "TZUO94aBijef",
        "outputId": "21b1f5fb-1e24-464f-d662-7cddedd3a501"
      },
      "execution_count": 14,
      "outputs": [
        {
          "output_type": "stream",
          "name": "stdout",
          "text": [
            "Your bank account number is: 104738945\n",
            "Balance on your account is: 45000.34\n",
            "Hello, Jenny welcome to your Bank account page\n",
            "Transaction date: 2023-06-20\n",
            "Transaction amount: 400\n",
            "Ignoring invalid transaction: 6/23,-350\n",
            "Ignoring invalid transaction: 4/16,-25\n",
            "Total balance: 45400.34\n"
          ]
        }
      ]
    }
  ]
}