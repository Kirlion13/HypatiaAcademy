{
  "nbformat": 4,
  "nbformat_minor": 0,
  "metadata": {
    "colab": {
      "provenance": [],
      "authorship_tag": "ABX9TyOyhA1GFE9jjEMBuyJjpq+M",
      "include_colab_link": true
    },
    "kernelspec": {
      "name": "python3",
      "display_name": "Python 3"
    },
    "language_info": {
      "name": "python"
    }
  },
  "cells": [
    {
      "cell_type": "markdown",
      "metadata": {
        "id": "view-in-github",
        "colab_type": "text"
      },
      "source": [
        "<a href=\"https://colab.research.google.com/github/Kirlion13/HypatiaAcademy/blob/main/HypatiaAcademy/15_06_2023%2C_class_creating.ipynb\" target=\"_parent\"><img src=\"https://colab.research.google.com/assets/colab-badge.svg\" alt=\"Open In Colab\"/></a>"
      ]
    },
    {
      "cell_type": "code",
      "execution_count": 13,
      "metadata": {
        "colab": {
          "base_uri": "https://localhost:8080/"
        },
        "id": "-w4emnHn-sRG",
        "outputId": "064dc0b2-e38b-4c46-8743-510c7ada6975"
      },
      "outputs": [
        {
          "output_type": "stream",
          "name": "stdout",
          "text": [
            "Your bank account number is:  104738945\n",
            "Balance on your account is:  45000.34\n",
            "Hello, Jenny welcome to your Bank account page\n"
          ]
        }
      ],
      "source": [
        "class BankAccount:\n",
        "  def __init__ (self, account_number, balance, owners_name):\n",
        "    self.account_number = account_number\n",
        "    self.balance = balance\n",
        "    self.owner_name = owners_name\n",
        "\n",
        "\n",
        "Jenny_s_account = BankAccount(104738945, 45000.34, \"Jenny\")\n",
        "\n",
        "print(\"Your bank account number is: \", Jenny_s_account.account_number)\n",
        "print(\"Balance on your account is: \", Jenny_s_account.balance)\n",
        "print(\"Hello,\", Jenny_s_account.owner_name, \"welcome to your Bank account page\")"
      ]
    }
  ]
}