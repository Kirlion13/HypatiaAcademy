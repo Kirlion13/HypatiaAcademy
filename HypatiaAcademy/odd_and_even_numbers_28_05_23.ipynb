{
  "nbformat": 4,
  "nbformat_minor": 0,
  "metadata": {
    "colab": {
      "provenance": [],
      "authorship_tag": "ABX9TyNwZz7oPZU1uRkMt2DmQa44",
      "include_colab_link": true
    },
    "kernelspec": {
      "name": "python3",
      "display_name": "Python 3"
    },
    "language_info": {
      "name": "python"
    }
  },
  "cells": [
    {
      "cell_type": "markdown",
      "metadata": {
        "id": "view-in-github",
        "colab_type": "text"
      },
      "source": [
        "<a href=\"https://colab.research.google.com/github/Kirlion13/HypatiaAcademy/blob/main/HypatiaAcademy/odd_and_even_numbers_28_05_23.ipynb\" target=\"_parent\"><img src=\"https://colab.research.google.com/assets/colab-badge.svg\" alt=\"Open In Colab\"/></a>"
      ]
    },
    {
      "cell_type": "code",
      "execution_count": 1,
      "metadata": {
        "id": "d5cv6KHx2IZU"
      },
      "outputs": [],
      "source": [
        "import random"
      ]
    },
    {
      "cell_type": "code",
      "source": [
        "for i in range(10):\n",
        "  numbers.append(random.randint(1,10))\n",
        "  print(numbers)"
      ],
      "metadata": {
        "colab": {
          "base_uri": "https://localhost:8080/"
        },
        "id": "aUi8pOoE2Taz",
        "outputId": "5e5f11a2-e74f-4a19-8a92-1bd04b527a12"
      },
      "execution_count": 13,
      "outputs": [
        {
          "output_type": "stream",
          "name": "stdout",
          "text": [
            "[9, 4, 9, 3, 3, 9, 6, 1, 3, 4, 2, 7, 7, 3, 3, 6, 10, 3, 4, 3, 5]\n",
            "[9, 4, 9, 3, 3, 9, 6, 1, 3, 4, 2, 7, 7, 3, 3, 6, 10, 3, 4, 3, 5, 6]\n",
            "[9, 4, 9, 3, 3, 9, 6, 1, 3, 4, 2, 7, 7, 3, 3, 6, 10, 3, 4, 3, 5, 6, 9]\n",
            "[9, 4, 9, 3, 3, 9, 6, 1, 3, 4, 2, 7, 7, 3, 3, 6, 10, 3, 4, 3, 5, 6, 9, 5]\n",
            "[9, 4, 9, 3, 3, 9, 6, 1, 3, 4, 2, 7, 7, 3, 3, 6, 10, 3, 4, 3, 5, 6, 9, 5, 8]\n",
            "[9, 4, 9, 3, 3, 9, 6, 1, 3, 4, 2, 7, 7, 3, 3, 6, 10, 3, 4, 3, 5, 6, 9, 5, 8, 3]\n",
            "[9, 4, 9, 3, 3, 9, 6, 1, 3, 4, 2, 7, 7, 3, 3, 6, 10, 3, 4, 3, 5, 6, 9, 5, 8, 3, 7]\n",
            "[9, 4, 9, 3, 3, 9, 6, 1, 3, 4, 2, 7, 7, 3, 3, 6, 10, 3, 4, 3, 5, 6, 9, 5, 8, 3, 7, 5]\n",
            "[9, 4, 9, 3, 3, 9, 6, 1, 3, 4, 2, 7, 7, 3, 3, 6, 10, 3, 4, 3, 5, 6, 9, 5, 8, 3, 7, 5, 6]\n",
            "[9, 4, 9, 3, 3, 9, 6, 1, 3, 4, 2, 7, 7, 3, 3, 6, 10, 3, 4, 3, 5, 6, 9, 5, 8, 3, 7, 5, 6, 4]\n"
          ]
        }
      ]
    },
    {
      "cell_type": "code",
      "source": [
        "def sort_Odd_Even(numbers):\n",
        "\n",
        "    for i in range(len(numbers)):\n",
        "        if numbers[i] % 2 == 0:\n",
        "            even.append(numbers[i])\n",
        "\n",
        "    for i in range(len(numbers)):\n",
        "        if numbers[i] % 2 == 1:\n",
        "            odd.append(numbers[i])\n",
        "\n",
        "    return odd, even\n",
        "\n",
        "    odd_numbers, even_numbers = sort_Odd_Even(numbers)\n",
        "\n",
        "print(\"Odd numbers:\", odd)\n",
        "print(\"Even numbers:\", even)"
      ],
      "metadata": {
        "colab": {
          "base_uri": "https://localhost:8080/"
        },
        "id": "xoJuINdA4_XE",
        "outputId": "a2d278e3-51fe-46ab-cbd9-44cc5ce01923"
      },
      "execution_count": 50,
      "outputs": [
        {
          "output_type": "stream",
          "name": "stdout",
          "text": [
            "Odd numbers: [9, 9, 3, 3, 9]\n",
            "Even numbers: [4, 6]\n"
          ]
        }
      ]
    }
  ]
}