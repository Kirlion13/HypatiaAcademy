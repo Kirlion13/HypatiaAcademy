{
  "nbformat": 4,
  "nbformat_minor": 0,
  "metadata": {
    "colab": {
      "provenance": [],
      "authorship_tag": "ABX9TyP5+PTpIbxJ7ZosxqGwJb42",
      "include_colab_link": true
    },
    "kernelspec": {
      "name": "python3",
      "display_name": "Python 3"
    },
    "language_info": {
      "name": "python"
    }
  },
  "cells": [
    {
      "cell_type": "markdown",
      "metadata": {
        "id": "view-in-github",
        "colab_type": "text"
      },
      "source": [
        "<a href=\"https://colab.research.google.com/github/Kirlion13/HypatiaAcademy/blob/main/HypatiaAcademy21_07_2023_greatest_common_divisor.ipynb\" target=\"_parent\"><img src=\"https://colab.research.google.com/assets/colab-badge.svg\" alt=\"Open In Colab\"/></a>"
      ]
    },
    {
      "cell_type": "code",
      "execution_count": 2,
      "metadata": {
        "colab": {
          "base_uri": "https://localhost:8080/"
        },
        "id": "8qdHSpgLjfZU",
        "outputId": "d8bac187-4041-41ac-cbaa-f09b821b1e08"
      },
      "outputs": [
        {
          "output_type": "stream",
          "name": "stdout",
          "text": [
            "The greatest common divisor of 60 and 48 is: 12\n"
          ]
        }
      ],
      "source": [
        "def find_gcd_with_range(a, b):\n",
        "    num = max(a, b)\n",
        "    while num > 0:\n",
        "        if a % num == 0 and b % num == 0:\n",
        "            return num\n",
        "        num -= 1\n",
        "    return 1\n",
        "\n",
        "a, b = 60, 48\n",
        "result = find_gcd_with_range(a, b)\n",
        "print(\"The greatest common divisor of\", a, \"and\", b, \"is:\", result)"
      ]
    }
  ]
}